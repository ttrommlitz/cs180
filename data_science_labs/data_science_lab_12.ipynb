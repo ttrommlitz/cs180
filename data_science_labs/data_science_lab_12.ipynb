{
  "nbformat": 4,
  "nbformat_minor": 0,
  "metadata": {
    "colab": {
      "provenance": []
    },
    "kernelspec": {
      "name": "python3",
      "display_name": "Python 3"
    },
    "language_info": {
      "name": "python"
    }
  },
  "cells": [
    {
      "cell_type": "markdown",
      "source": [
        "<a href=\"https://colab.research.google.com/github/porterjenkins/CS180/blob/main/data_science_labs/data_science_lab_12.ipynb\" target=\"_parent\"><img src=\"https://colab.research.google.com/assets/colab-badge.svg\" alt=\"Open In Colab\"/></a><p><b>After clicking the \"Open in Colab\" link, copy the notebook to your own Google Drive before getting started, or it will not save your work</b></p>"
      ],
      "metadata": {
        "id": "IPir_6bCCFnZ"
      }
    },
    {
      "cell_type": "markdown",
      "source": [
        "# BYU CS 180 Lab 12"
      ],
      "metadata": {
        "id": "_slaQdUGCB0t"
      }
    },
    {
      "cell_type": "code",
      "source": [
        "# Dependencies for the lab\n",
        "import numpy as np\n",
        "import matplotlib.pyplot as plt\n",
        "from sklearn.linear_model import LinearRegression\n",
        "from sklearn.neighbors import KNeighborsRegressor\n",
        "from sklearn.tree import DecisionTreeRegressor\n",
        "import pandas as pd\n",
        "from sklearn.metrics import mean_squared_error\n",
        "import statsmodels.api as sm"
      ],
      "metadata": {
        "id": "Gaema31vjP8f"
      },
      "execution_count": 2,
      "outputs": []
    },
    {
      "cell_type": "markdown",
      "source": [
        "## Introduction:\n",
        "In this lab you will fit regression models on multiple datasets."
      ],
      "metadata": {
        "id": "ct7fnkcnCL8O"
      }
    },
    {
      "cell_type": "markdown",
      "source": [
        "## Exercise 1: Synthetic Data\n",
        "First we will fit a regression model to multiple variants of a synthetic dataset. In each case, we know the true parameters (slope and intercept) and we will vary the noise of the data. Execute the following code to generate the data:"
      ],
      "metadata": {
        "id": "PUat5xRAcdrC"
      }
    },
    {
      "cell_type": "code",
      "source": [
        "import numpy as np\n",
        "\n",
        "w_0_true = -2.5 # this is the TRUE intercept\n",
        "w_1_true = 0.1 # this is the TRUE slope\n",
        "\n",
        "def f_x(x, w_0, w_1, sig):\n",
        "  n = len(x)\n",
        "  y = w_1*x + w_0 + np.random.normal(0, sig, n)\n",
        "  return y\n",
        "\n",
        "x = np.arange(0, 100)\n",
        "\n",
        "\n",
        "y_1 = f_x(x, w_0_true, w_1_true, sig=0.5) # standard deviation = 0.5\n",
        "y_2 = f_x(x, w_0_true, w_1_true, sig=1.5) # standard deviation = 1.5\n",
        "y_3 = f_x(x, w_0_true, w_1_true, sig=5.0) # standard deviation = 5\n",
        "y_4 = f_x(x, w_0_true, w_1_true, sig=10.0) # standard deviation = 10"
      ],
      "metadata": {
        "id": "wgyxUegDs57G"
      },
      "execution_count": null,
      "outputs": []
    },
    {
      "cell_type": "markdown",
      "source": [
        "### Question 1a:\n",
        "For each of the four datasets we generated do the following:\n",
        "\n",
        "* Plot a scatter plot of `x` and `y_i` (e.g, `x` and `y_2`)\n",
        "\n",
        "* Fit a [linear regression model](https://scikit-learn.org/stable/modules/generated/sklearn.linear_model.LinearRegression.html) using sklearn (sklearn.linear_model.LinearRegression )\n",
        "\n",
        "  * Make sure `fit_intercept` is set to `True`\n",
        "\n",
        "  * hint: sklearn expects the features to be two-dimensional. You many need to use the following code to reshape your `x` array when training:\n",
        "\n",
        "```\n",
        "  reg = LinearRegression(fit_intercept=True)\n",
        "  reg.fit(x.reshape(-1, 1), y) # reshape x to be two-dimensional\n",
        "```\n",
        "* Print the estimated coefficients:\n",
        "\n",
        "  * These can be accessed with the `coef_` and `intercept_` attributes on the regression object\n",
        "\n",
        "* Plot the regression line on the scatter plots of `x` and `y`\n",
        "\n",
        "Comment on how well the regression model approximates the data"
      ],
      "metadata": {
        "id": "NdAGXZPYtCVW"
      }
    },
    {
      "cell_type": "code",
      "source": [
        "# Write your code for question 1a here"
      ],
      "metadata": {
        "id": "EZaKv44PuCx9"
      },
      "execution_count": null,
      "outputs": []
    },
    {
      "cell_type": "markdown",
      "source": [
        "### Question 1b:\n",
        "\n",
        "What do you observe as we add noise to our generated dataset? How well are we able to recover the true parameters, `w_0_true` and `w_1_true` from the data as noise increases?"
      ],
      "metadata": {
        "id": "ezTGk3qzw6qC"
      }
    },
    {
      "cell_type": "markdown",
      "source": [
        "Enter in your answer here."
      ],
      "metadata": {
        "id": "JD4s8NkhxCsF"
      }
    },
    {
      "cell_type": "markdown",
      "source": [
        "# Exercise 2\n",
        "Read the California Housing Data from the `sample_data` on every collab instance:"
      ],
      "metadata": {
        "id": "2haBwY12xHdB"
      }
    },
    {
      "cell_type": "code",
      "source": [
        "import pandas as pd\n",
        "train = pd.read_csv(\"sample_data/california_housing_train.csv\")\n",
        "test = pd.read_csv(\"sample_data/california_housing_test.csv\")"
      ],
      "metadata": {
        "id": "DoL6tiKMxpn7"
      },
      "execution_count": null,
      "outputs": []
    },
    {
      "cell_type": "markdown",
      "source": [
        "This dataset contains features on census tracts in California in the early 1990’s. The target is the variable `median_house_value` of each census tract."
      ],
      "metadata": {
        "id": "zEiUroYyxtlC"
      }
    },
    {
      "cell_type": "markdown",
      "source": [
        "### Exercise 2a:\n",
        "Plot a [scatter_plot matrix](https://pandas.pydata.org/pandas-docs/stable/reference/api/pandas.plotting.scatter_matrix.html) using the training data. You may need to tune the `fig_size` argument to make the figure larger. "
      ],
      "metadata": {
        "id": "mcEiKgcxxwyw"
      }
    },
    {
      "cell_type": "code",
      "source": [
        "# Enter your code to plot the scatter_plot matrix here."
      ],
      "metadata": {
        "id": "EieD2s8byLgt"
      },
      "execution_count": null,
      "outputs": []
    },
    {
      "cell_type": "markdown",
      "source": [
        "What variables appear to be correlated with `median_house_value`?"
      ],
      "metadata": {
        "id": "Qomi7e6yyEEh"
      }
    },
    {
      "cell_type": "markdown",
      "source": [
        "> Enter your answer here"
      ],
      "metadata": {
        "id": "RtFISgwsyNyY"
      }
    },
    {
      "cell_type": "markdown",
      "source": [
        "What variables are not correlated with `median_house_value`?"
      ],
      "metadata": {
        "id": "soyZfoFdyF3G"
      }
    },
    {
      "cell_type": "markdown",
      "source": [
        "> Enter your answer here"
      ],
      "metadata": {
        "id": "okhRuaEtyRKg"
      }
    },
    {
      "cell_type": "markdown",
      "source": [
        "What features appear to be correlated with each other?"
      ],
      "metadata": {
        "id": "TQW2x9qByIUY"
      }
    },
    {
      "cell_type": "markdown",
      "source": [
        "> Enter your answer here"
      ],
      "metadata": {
        "id": "VvGuKTHXyYe_"
      }
    },
    {
      "cell_type": "markdown",
      "source": [
        "### Exercise 2b\n",
        "Fit a linear regression model using `sklearn`.\n",
        "* Fit a few different models (each with different features).\n",
        "* Evaluate the [mean_squared_error](https://scikit-learn.org/stable/modules/model_evaluation.html#mean-squared-error) of your models with both the training and test set."
      ],
      "metadata": {
        "id": "aJ2gcLdQyi7M"
      }
    },
    {
      "cell_type": "code",
      "source": [
        "# Enter your code for exercise 2b here."
      ],
      "metadata": {
        "id": "qfm8NUxsy3WD"
      },
      "execution_count": null,
      "outputs": []
    },
    {
      "cell_type": "markdown",
      "source": [
        "What did you observe? Which model yields the lowest test error?"
      ],
      "metadata": {
        "id": "NXTMPY6NzShb"
      }
    },
    {
      "cell_type": "markdown",
      "source": [
        "> Enter your answer here"
      ],
      "metadata": {
        "id": "pjIx8Lh9zWH6"
      }
    },
    {
      "cell_type": "markdown",
      "source": [
        "### Exercise 2c\n",
        "Fit a linear regression using the `statsmodels` api.\n",
        "* Print the model output using `print(results.summary())`"
      ],
      "metadata": {
        "id": "7PsfUy3Izc0Q"
      }
    },
    {
      "cell_type": "code",
      "source": [
        "#Enter your code for exercise 2c here."
      ],
      "metadata": {
        "id": "aQEoQKtT0F2W"
      },
      "execution_count": null,
      "outputs": []
    },
    {
      "cell_type": "markdown",
      "source": [
        "Comment on which features appear to have the strongest relationship with `median_house_value`?"
      ],
      "metadata": {
        "id": "VfMAhsYlzuBR"
      }
    },
    {
      "cell_type": "markdown",
      "source": [
        "> Enter your answer here"
      ],
      "metadata": {
        "id": "e63Ev6eg0NOV"
      }
    },
    {
      "cell_type": "markdown",
      "source": [
        "Write a sentence interpreting the coefficient for `median_income`."
      ],
      "metadata": {
        "id": "2bon361C0WYx"
      }
    },
    {
      "cell_type": "markdown",
      "source": [
        "> Enter your answer here"
      ],
      "metadata": {
        "id": "_YFKpYMP0ZKG"
      }
    }
  ]
}
