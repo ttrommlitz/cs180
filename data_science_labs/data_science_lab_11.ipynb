{
  "nbformat": 4,
  "nbformat_minor": 0,
  "metadata": {
    "colab": {
      "provenance": []
    },
    "kernelspec": {
      "name": "python3",
      "display_name": "Python 3"
    },
    "language_info": {
      "name": "python"
    }
  },
  "cells": [
    {
      "cell_type": "markdown",
      "source": [
        "<a href=\"https://colab.research.google.com/github/porterjenkins/CS180/blob/main/data_science_labs/data_science_lab_11.ipynb\" target=\"_parent\"><img src=\"https://colab.research.google.com/assets/colab-badge.svg\" alt=\"Open In Colab\"/></a><p><b>After clicking the \"Open in Colab\" link, copy the notebook to your own Google Drive before getting started, or it will not save your work</b></p>"
      ],
      "metadata": {
        "id": "IPir_6bCCFnZ"
      }
    },
    {
      "cell_type": "markdown",
      "source": [
        "# BYU CS 180 Lab 11"
      ],
      "metadata": {
        "id": "_slaQdUGCB0t"
      }
    },
    {
      "cell_type": "code",
      "source": [
        "# Dependencies for the lab\n",
        "import numpy as np\n",
        "import matplotlib.pyplot as plt\n",
        "import pandas as pd\n",
        "import sklearn"
      ],
      "metadata": {
        "id": "Gaema31vjP8f"
      },
      "execution_count": null,
      "outputs": []
    },
    {
      "cell_type": "markdown",
      "source": [
        "## Introduction:\n",
        "You will use the `sklearn` API to train various classifiers. Feel free to use any `sklearn`, `numpy`, or `pandas` function to help you with the lab.\n",
        "\n",
        "The 20 newsgroups dataset comprises around 18000 newsgroups posts on 20 topics. The 20 categories are:\n",
        "```\n",
        "['alt.atheism',\n",
        " 'comp.graphics',\n",
        " 'comp.os.ms-windows.misc',\n",
        " 'comp.sys.ibm.pc.hardware',\n",
        " 'comp.sys.mac.hardware',\n",
        " 'comp.windows.x',\n",
        " 'misc.forsale',\n",
        " 'rec.autos',\n",
        " 'rec.motorcycles',\n",
        " 'rec.sport.baseball',\n",
        " 'rec.sport.hockey',\n",
        " 'sci.crypt',\n",
        " 'sci.electronics',\n",
        " 'sci.med',\n",
        " 'sci.space',\n",
        " 'soc.religion.christian',\n",
        " 'talk.politics.guns',\n",
        " 'talk.politics.mideast',\n",
        " 'talk.politics.misc',\n",
        " 'talk.religion.misc']\n",
        "```\n",
        "The posts are raw text. For example:\n",
        "\n",
        "**Post:**\n",
        "```\n",
        "From: lerxst@wam.umd.edu (where's my thing)\n",
        "Subject: WHAT car is this!?\n",
        "Nntp-Posting-Host: rac3.wam.umd.edu\n",
        "Organization: University of Maryland, College Park\n",
        "Lines: 15\n",
        "\n",
        " I was wondering if anyone out there could enlighten me on this car I saw\n",
        "the other day. It was a 2-door sports car, looked to be from the late 60s/\n",
        "early 70s. It was called a Bricklin. The doors were really small. In addition,\n",
        "the front bumper was separate from the rest of the body. This is \n",
        "all I know. If anyone can tellme a model name, engine specs, years\n",
        "of production, where this car is made, history, or whatever info you\n",
        "have on this funky looking car, please e-mail.\n",
        "\n",
        "Thanks,\n",
        "- IL\n",
        "   ---- brought to you by your neighborhood Lerxst ----\n",
        "```\n",
        "\n",
        "**Target:**\n",
        "```\n",
        "'rec.autos'\n",
        "```\n",
        "\n",
        "Your task will be to build a classifier to predict the category of posts. You will do the following in this notebook:"
      ],
      "metadata": {
        "id": "ct7fnkcnCL8O"
      }
    },
    {
      "cell_type": "markdown",
      "source": [
        "## Exercise 1: Retrieve the Data\n",
        "Download `fetch_20newsgroups` dataset"
      ],
      "metadata": {
        "id": "PUat5xRAcdrC"
      }
    },
    {
      "cell_type": "code",
      "source": [
        "from sklearn.datasets import fetch_20newsgroups\n",
        "data = fetch_20newsgroups()\n",
        "docs = data['data']\n",
        "targets = data[\"target\"]\n",
        "names = data.target_names"
      ],
      "metadata": {
        "id": "j1m2KIHShNdC"
      },
      "execution_count": 1,
      "outputs": []
    },
    {
      "cell_type": "markdown",
      "source": [
        "Print off the first document and its target classification to make sure its been downloaded correctly "
      ],
      "metadata": {
        "id": "BXDLQKs3hUM8"
      }
    },
    {
      "cell_type": "code",
      "source": [
        "#Enter code here."
      ],
      "metadata": {
        "id": "-hfFbcRohgMf"
      },
      "execution_count": null,
      "outputs": []
    },
    {
      "cell_type": "markdown",
      "source": [
        "## Exercise 2: Understand the Data"
      ],
      "metadata": {
        "id": "RSUun4WVcl17"
      }
    },
    {
      "cell_type": "markdown",
      "source": [
        "Perform some exploratory analysis on your data. Specifically, plot a bar chart showing distribution of the categories (classes)"
      ],
      "metadata": {
        "id": "xJZbee3ihnqV"
      }
    },
    {
      "cell_type": "code",
      "source": [
        "#Enter code here"
      ],
      "metadata": {
        "id": "veGuUMbEhj5-"
      },
      "execution_count": null,
      "outputs": []
    },
    {
      "cell_type": "markdown",
      "source": [
        "## Exercise 3: Engineer the Data\n",
        "Extract features from raw text. You are free to be creative here. There is no correct answer. Try and think of the features (input) that are most predictive of the category. Some helpful sklearn feature engineering code can be found here (I'd recommend reading through the documentation before diving in and trying to get these tools to work):\n",
        "\n",
        "* [CountVectorizer](https://scikit-learn.org/stable/modules/generated/sklearn.feature_extraction.text.CountVectorizer.html#sklearn.feature_extraction.text.CountVectorizer)\n",
        "* [TFIDF Text Features](https://scikit-learn.org/stable/modules/generated/sklearn.feature_extraction.text.TfidfVectorizer.html)"
      ],
      "metadata": {
        "id": "CBmTXeqpcq5W"
      }
    },
    {
      "cell_type": "code",
      "source": [
        "#Enter code here to engineer the data"
      ],
      "metadata": {
        "id": "M18gziAZifj0"
      },
      "execution_count": null,
      "outputs": []
    },
    {
      "cell_type": "markdown",
      "source": [
        "## Exercise 4: Split the Data\n",
        "\n",
        "Split your data into train and test splits. Use an 80%/20% split rule for train and test respectively. I'd recommend using the function from the last lab"
      ],
      "metadata": {
        "id": "JN4r2NSpc5hQ"
      }
    },
    {
      "cell_type": "code",
      "source": [
        "#Enter code here to split the dataset"
      ],
      "metadata": {
        "id": "C6uiqrStkxww"
      },
      "execution_count": null,
      "outputs": []
    },
    {
      "cell_type": "markdown",
      "source": [
        "## Exercise 5: Train the Model"
      ],
      "metadata": {
        "id": "eW6QTIUxcz_G"
      }
    },
    {
      "cell_type": "markdown",
      "source": [
        "Using sklearn, train the following three classifiers using the training set:\n",
        "* KNN\n",
        "* Decision Tree\n",
        "* Logistic Regression"
      ],
      "metadata": {
        "id": "mNY2czLak_pA"
      }
    },
    {
      "cell_type": "code",
      "source": [
        "# Train the model using the KNN Cluster Algorithm"
      ],
      "metadata": {
        "id": "MIaBp38BlEzu"
      },
      "execution_count": null,
      "outputs": []
    },
    {
      "cell_type": "code",
      "source": [
        "# Train the model using the Decision Tree Algorithm"
      ],
      "metadata": {
        "id": "xSINn2VklIH9"
      },
      "execution_count": null,
      "outputs": []
    },
    {
      "cell_type": "code",
      "source": [
        "# Train the model using the Logistic Regression Algorithm"
      ],
      "metadata": {
        "id": "ZayZjHO1lNXG"
      },
      "execution_count": null,
      "outputs": []
    },
    {
      "cell_type": "markdown",
      "source": [
        "## Exercise 6: Evaluate the Model\n",
        "Compare the performance of your classifiers on the test set. Discuss which one performs the best."
      ],
      "metadata": {
        "id": "gRC3UrQjdOtM"
      }
    },
    {
      "cell_type": "code",
      "source": [
        "# Evaluate the KNN Cluster model"
      ],
      "metadata": {
        "id": "fviUlnNZl_Ek"
      },
      "execution_count": null,
      "outputs": []
    },
    {
      "cell_type": "code",
      "source": [
        "# Evaluate the Decision Tree model"
      ],
      "metadata": {
        "id": "NFysD0Krl9-n"
      },
      "execution_count": null,
      "outputs": []
    },
    {
      "cell_type": "code",
      "source": [
        "# Evaluate the Logistic Regression model"
      ],
      "metadata": {
        "id": "FVjIpzzxl8E-"
      },
      "execution_count": null,
      "outputs": []
    },
    {
      "cell_type": "markdown",
      "source": [
        "Discuss which one performs the best:"
      ],
      "metadata": {
        "id": "ofWWlon9mqUw"
      }
    },
    {
      "cell_type": "markdown",
      "source": [
        "(Write Discussion Here)"
      ],
      "metadata": {
        "id": "rLE2qUqpmu0P"
      }
    }
  ]
}
