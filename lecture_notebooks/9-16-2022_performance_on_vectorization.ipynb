{
  "nbformat": 4,
  "nbformat_minor": 0,
  "metadata": {
    "colab": {
      "provenance": []
    },
    "kernelspec": {
      "name": "python3",
      "display_name": "Python 3"
    },
    "language_info": {
      "name": "python"
    }
  },
  "cells": [
    {
      "cell_type": "code",
      "execution_count": null,
      "metadata": {
        "id": "rdEho_di5vEZ"
      },
      "outputs": [],
      "source": [
        "import time\n",
        "import matplotlib.pyplot as plt\n",
        "import numpy as np\n",
        "from tqdm import tqdm"
      ]
    },
    {
      "cell_type": "code",
      "source": [
        "def timeit( f ):\n",
        "  start_time = time.time()\n",
        "  f()\n",
        "  end_time = time.time()\n",
        "  delta = end_time-start_time\n",
        "  #print( f\"The function took {delta} seconds to run\" )\n",
        "  return delta"
      ],
      "metadata": {
        "id": "iS75fjS08Ewt"
      },
      "execution_count": null,
      "outputs": []
    },
    {
      "cell_type": "code",
      "source": [
        "def f1( k=100000 ):\n",
        "  total = 0.0\n",
        "  for i in range( k ):\n",
        "    total = total + i**1.1\n",
        "  return total"
      ],
      "metadata": {
        "id": "ISdB_gJ78ez7"
      },
      "execution_count": null,
      "outputs": []
    },
    {
      "cell_type": "code",
      "source": [
        "y_vals = []\n",
        "x_vals = []\n",
        "for newk in range( 100 ):\n",
        "  delta = timeit( lambda: f1(k=newk*1000) )\n",
        "  y_vals.append( delta )\n",
        "  x_vals.append( newk*1000 )"
      ],
      "metadata": {
        "id": "tQzOTpGF8yKz"
      },
      "execution_count": null,
      "outputs": []
    },
    {
      "cell_type": "code",
      "source": [
        "plt.plot( x_vals, y_vals )"
      ],
      "metadata": {
        "colab": {
          "base_uri": "https://localhost:8080/",
          "height": 283
        },
        "id": "pnJ7JpTk-9k-",
        "outputId": "8febc768-8b45-46f3-c14b-dc7536b51da0"
      },
      "execution_count": null,
      "outputs": [
        {
          "output_type": "execute_result",
          "data": {
            "text/plain": [
              "[<matplotlib.lines.Line2D at 0x7f3599c792d0>]"
            ]
          },
          "metadata": {},
          "execution_count": 29
        },
        {
          "output_type": "display_data",
          "data": {
            "text/plain": [
              "<Figure size 432x288 with 1 Axes>"
            ],
            "image/png": "[encoded data removed]"
          },
          "metadata": {
            "needs_background": "light"
          }
        }
      ]
    },
    {
      "cell_type": "code",
      "source": [
        "def regular_pi_estimator( k=1000 ):\n",
        "  sq_total = 0.0\n",
        "  circ_total = 0.0\n",
        "  for _ in range( k ):\n",
        "    pt = np.random.rand(1,2)\n",
        "    sq_total += 1.0\n",
        "    dist = np.sqrt( np.sum(pt*pt) )\n",
        "    if dist < 1.0:\n",
        "      circ_total += 1.0\n",
        "  return (4*circ_total) / sq_total"
      ],
      "metadata": {
        "id": "wYrLB7ZM_Br4"
      },
      "execution_count": null,
      "outputs": []
    },
    {
      "cell_type": "code",
      "source": [
        "def vec_pi_estimator( k=1000 ):\n",
        "  pts = np.random.rand( k, 2 )\n",
        "\n",
        "  dists = np.sqrt( np.sum( pts*pts, axis=1 ) )\n",
        "  circ_total = np.sum( dists < 1.0 )\n",
        "\n",
        "  sq_total = k\n",
        "\n",
        "  return 4*circ_total / sq_total"
      ],
      "metadata": {
        "id": "e5Kg9MzjDK2f"
      },
      "execution_count": null,
      "outputs": []
    },
    {
      "cell_type": "code",
      "source": [
        "regular_pi_estimator( k=100000 )"
      ],
      "metadata": {
        "colab": {
          "base_uri": "https://localhost:8080/"
        },
        "id": "sZoLI64KBxxz",
        "outputId": "6b0d849c-b74b-4d03-c7fb-85b0ac3b1f31"
      },
      "execution_count": null,
      "outputs": [
        {
          "output_type": "execute_result",
          "data": {
            "text/plain": [
              "3.14684"
            ]
          },
          "metadata": {},
          "execution_count": 37
        }
      ]
    },
    {
      "cell_type": "code",
      "source": [
        "rpe_y_vals = []\n",
        "rpe_x_vals = []\n",
        "for newk in tqdm( range( 25 ) ):\n",
        "  delta = timeit( lambda: regular_pi_estimator(k=(newk+1)*10000) )\n",
        "  rpe_y_vals.append( delta )\n",
        "  rpe_x_vals.append( newk*10000 )"
      ],
      "metadata": {
        "colab": {
          "base_uri": "https://localhost:8080/"
        },
        "id": "eT9_G_JkB1vh",
        "outputId": "93675fb0-f28a-4047-bb8d-943902ebdac6"
      },
      "execution_count": null,
      "outputs": [
        {
          "output_type": "stream",
          "name": "stderr",
          "text": [
            "100%|██████████| 25/25 [00:49<00:00,  2.00s/it]\n"
          ]
        }
      ]
    },
    {
      "cell_type": "code",
      "source": [
        "vpe_y_vals = []\n",
        "vpe_x_vals = []\n",
        "for newk in tqdm( range( 25 ) ):\n",
        "  delta = timeit( lambda: vec_pi_estimator(k=(newk+1)*10000) )\n",
        "  vpe_y_vals.append( delta )\n",
        "  vpe_x_vals.append( newk*10000 )"
      ],
      "metadata": {
        "colab": {
          "base_uri": "https://localhost:8080/"
        },
        "id": "F-N3fgAhEhYm",
        "outputId": "559f7837-c983-413c-fd84-51d29f38f77e"
      },
      "execution_count": null,
      "outputs": [
        {
          "output_type": "stream",
          "name": "stderr",
          "text": [
            "100%|██████████| 25/25 [00:00<00:00, 143.83it/s]\n"
          ]
        }
      ]
    },
    {
      "cell_type": "code",
      "source": [
        "plt.plot( rpe_x_vals, rpe_y_vals )\n",
        "plt.plot( vpe_x_vals, vpe_y_vals )"
      ],
      "metadata": {
        "colab": {
          "base_uri": "https://localhost:8080/",
          "height": 283
        },
        "id": "_cl9Ig9uElE1",
        "outputId": "abdecf3d-6f0a-492d-b993-9ee8953b248e"
      },
      "execution_count": null,
      "outputs": [
        {
          "output_type": "execute_result",
          "data": {
            "text/plain": [
              "[<matplotlib.lines.Line2D at 0x7f3598bb9f50>]"
            ]
          },
          "metadata": {},
          "execution_count": 54
        },
        {
          "output_type": "display_data",
          "data": {
            "text/plain": [
              "<Figure size 432x288 with 1 Axes>"
            ],
            "image/png": "[encoded data removed]"
          },
          "metadata": {
            "needs_background": "light"
          }
        }
      ]
    },
    {
      "cell_type": "code",
      "source": [],
      "metadata": {
        "id": "PXzXKKsREsTF"
      },
      "execution_count": null,
      "outputs": []
    }
  ]
}