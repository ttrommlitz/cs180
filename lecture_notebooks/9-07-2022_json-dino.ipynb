{
  "nbformat": 4,
  "nbformat_minor": 0,
  "metadata": {
    "colab": {
      "provenance": []
    },
    "kernelspec": {
      "name": "python3",
      "display_name": "Python 3"
    },
    "language_info": {
      "name": "python"
    }
  },
  "cells": [
    {
      "cell_type": "code",
      "source": [],
      "metadata": {
        "id": "a7FUoPEsmds6"
      },
      "execution_count": null,
      "outputs": []
    },
    {
      "cell_type": "code",
      "execution_count": null,
      "metadata": {
        "id": "FmTvj52LAyll",
        "colab": {
          "base_uri": "https://localhost:8080/"
        },
        "outputId": "199b53d1-4a84-4cf8-eea7-1e98b8220d9f"
      },
      "outputs": [
        {
          "output_type": "stream",
          "name": "stdout",
          "text": [
            "--2022-09-07 20:40:41--  https://wingated.github.io/cs180/dd.csv\n",
            "Resolving wingated.github.io (wingated.github.io)... 185.199.110.153, 185.199.108.153, 185.199.111.153, ...\n",
            "Connecting to wingated.github.io (wingated.github.io)|185.199.110.153|:443... connected.\n",
            "HTTP request sent, awaiting response... 200 OK\n",
            "Length: 65893 (64K) [text/csv]\n",
            "Saving to: ‘dd.csv’\n",
            "\n",
            "\rdd.csv                0%[                    ]       0  --.-KB/s               \rdd.csv              100%[===================>]  64.35K  --.-KB/s    in 0.008s  \n",
            "\n",
            "2022-09-07 20:40:41 (7.84 MB/s) - ‘dd.csv’ saved [65893/65893]\n",
            "\n"
          ]
        }
      ],
      "source": [
        "# run wget to download data\n",
        "!wget https://wingated.github.io/cs180/dd.csv"
      ]
    },
    {
      "cell_type": "code",
      "source": [
        "lines = open( \"./dd.csv\", \"r\").readlines()\n",
        "data_x = []\n",
        "data_y = []\n",
        "for l in lines:\n",
        "  parts = l.split(\",\")\n",
        "  if parts[0] == \"dino\":\n",
        "    data_x.append( float(parts[1]) )\n",
        "    data_y.append( float(parts[2]) )"
      ],
      "metadata": {
        "id": "JAzdv2Rjr0DM"
      },
      "execution_count": null,
      "outputs": []
    },
    {
      "cell_type": "code",
      "source": [
        "import matplotlib.pyplot as plt\n",
        "plt.scatter( data_x, data_y )"
      ],
      "metadata": {
        "colab": {
          "base_uri": "https://localhost:8080/",
          "height": 282
        },
        "id": "U-I1ZKOVszYP",
        "outputId": "6891211a-f166-48a2-b58c-57cd8d6c779e"
      },
      "execution_count": null,
      "outputs": [
        {
          "output_type": "execute_result",
          "data": {
            "text/plain": [
              "<matplotlib.collections.PathCollection at 0x7fefd466fe90>"
            ]
          },
          "metadata": {},
          "execution_count": 8
        },
        {
          "output_type": "display_data",
          "data": {
            "text/plain": [
              "<Figure size 432x288 with 1 Axes>"
            ],
            "image/png": "[encoded data removed]"
          },
          "metadata": {
            "needs_background": "light"
          }
        }
      ]
    },
    {
      "cell_type": "markdown",
      "source": [
        "## JSON\n"
      ],
      "metadata": {
        "id": "gPIAA7_YBWu7"
      }
    },
    {
      "cell_type": "markdown",
      "source": [
        "\n",
        "JSON (JavaScript Object Notation) is a lightweight data-interchange format \n",
        "\n",
        "* It is easy for humans to read and write and  is easy for machines to parse and generate\n",
        "* It is based on a subset of the JavaScript Programming Language [1]\n",
        "\n",
        "JSON has two structures:\n",
        "\n",
        "* A collection of name/value pairs. In various languages, this is realized as an object, record, struct, dictionary, hash table, keyed list, or associative array.\n",
        "\n",
        "* An ordered list of values. In most languages, this is realized as an array, vector, list, or sequence.\n",
        "\n",
        "These are universal data structures. Virtually all modern programming languages support them in one form or another. It makes sense that a data format that is interchangeable with programming languages also be based on these structures.\n",
        "\n",
        "[1] json.org\n"
      ],
      "metadata": {
        "id": "BaBS9ZCUA2qD"
      }
    },
    {
      "cell_type": "code",
      "source": [
        "{\n",
        "    \"glossary\": {\n",
        "        \"title\": \"example glossary\",\n",
        "        \"GlossDiv\": {\n",
        "            \"title\": \"S\",\n",
        "            \"GlossList\": {\n",
        "                \"GlossEntry\": {\n",
        "                    \"ID\": \"SGML\",\n",
        "                    \"SortAs\": \"SGML\",\n",
        "                    \"GlossTerm\": \"Standard Generalized Markup Language\",\n",
        "                    \"Acronym\": \"SGML\",\n",
        "                    \"Abbrev\": \"ISO 8879:1986\",\n",
        "                    \"GlossDef\": {\n",
        "                        \"para\": \"A meta-markup language, used to create markup languages such as DocBook.\",\n",
        "                        \"GlossSeeAlso\": [\"GML\", \"XML\"]\n",
        "                    },\n",
        "                    \"GlossSee\": \"markup\"\n",
        "                }\n",
        "            }\n",
        "        }\n",
        "    }\n",
        "}"
      ],
      "metadata": {
        "id": "xubGs_bEBZM6"
      },
      "execution_count": null,
      "outputs": []
    },
    {
      "cell_type": "code",
      "source": [
        "word_counts = {\n",
        "    \"bob\":2,\n",
        "    \"fred\":5\n",
        "}"
      ],
      "metadata": {
        "id": "3LOM9tuCuJNQ"
      },
      "execution_count": null,
      "outputs": []
    },
    {
      "cell_type": "code",
      "source": [
        "import json\n",
        "json.dump( word_counts, open(\"tmp.json\", \"w\"))"
      ],
      "metadata": {
        "id": "iRfsr6r_uMjU"
      },
      "execution_count": null,
      "outputs": []
    },
    {
      "cell_type": "code",
      "source": [
        "!ls"
      ],
      "metadata": {
        "colab": {
          "base_uri": "https://localhost:8080/"
        },
        "id": "oiGU44bIuQ43",
        "outputId": "ed3eb0c9-ca6f-413f-d008-cbf79d5bbdbb"
      },
      "execution_count": null,
      "outputs": [
        {
          "output_type": "stream",
          "name": "stdout",
          "text": [
            "dd.csv\tsample_data  tmp.json\n"
          ]
        }
      ]
    },
    {
      "cell_type": "code",
      "source": [
        "!more tmp.json"
      ],
      "metadata": {
        "colab": {
          "base_uri": "https://localhost:8080/"
        },
        "id": "-jz3DP3zuRVj",
        "outputId": "07fd1f44-809f-4e53-affa-5ac558bb4e88"
      },
      "execution_count": null,
      "outputs": [
        {
          "output_type": "stream",
          "name": "stdout",
          "text": [
            "{\"bob\": 2, \"fred\": 5}\n"
          ]
        }
      ]
    },
    {
      "cell_type": "code",
      "source": [
        "json.load(open(\"\"))"
      ],
      "metadata": {
        "id": "pKXiJt4juWcI"
      },
      "execution_count": null,
      "outputs": []
    }
  ]
}